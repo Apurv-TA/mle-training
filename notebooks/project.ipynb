{
 "cells": [
  {
   "cell_type": "markdown",
   "id": "5316f3a3",
   "metadata": {},
   "source": [
    "# IMPORTING LIBRARIES"
   ]
  },
  {
   "cell_type": "code",
   "execution_count": 1,
   "id": "ab925b06",
   "metadata": {},
   "outputs": [],
   "source": [
    "import numpy as np\n",
    "import pandas as pd\n",
    "import matplotlib.pyplot as plt\n",
    "import seaborn as sns\n",
    "import mlflow\n",
    "import mlflow.sklearn\n",
    "\n",
    "import os\n",
    "import tarfile\n",
    "import urllib\n",
    "\n",
    "import time\n",
    "import warnings"
   ]
  },
  {
   "cell_type": "code",
   "execution_count": 2,
   "id": "a8ca5b07",
   "metadata": {},
   "outputs": [],
   "source": [
    "from sklearn.model_selection import StratifiedShuffleSplit\n",
    "from sklearn.base import BaseEstimator, TransformerMixin\n",
    "\n",
    "from sklearn.pipeline import Pipeline\n",
    "from sklearn.preprocessing import StandardScaler\n",
    "from sklearn.compose import ColumnTransformer\n",
    "from sklearn.preprocessing import OneHotEncoder\n",
    "from sklearn.impute import SimpleImputer\n",
    "\n",
    "from sklearn.linear_model import LinearRegression\n",
    "from sklearn.tree import DecisionTreeRegressor\n",
    "from sklearn.ensemble import RandomForestRegressor\n",
    "\n",
    "from sklearn.metrics import r2_score\n",
    "from sklearn.model_selection import cross_val_score, GridSearchCV"
   ]
  },
  {
   "cell_type": "code",
   "execution_count": 3,
   "id": "c81c6ed9",
   "metadata": {},
   "outputs": [],
   "source": [
    "warnings.filterwarnings('ignore')\n",
    "\n",
    "np.random.seed(42)\n",
    "\n",
    "pd.set_option(\"display.max_columns\", 30)\n",
    "pd.set_option(\"display.max_rows\", 100)\n",
    "pd.set_option(\"display.max_colwidth\", 70)\n",
    "\n",
    "%matplotlib inline"
   ]
  },
  {
   "cell_type": "code",
   "execution_count": 4,
   "id": "64701e78",
   "metadata": {},
   "outputs": [
    {
     "name": "stderr",
     "output_type": "stream",
     "text": [
      "2022/01/31 10:14:26 INFO mlflow.tracking.fluent: Experiment with name 'ML_Housing' does not exist. Creating a new experiment.\n"
     ]
    },
    {
     "data": {
      "text/plain": [
       "<Experiment: artifact_location='mlruns/6', experiment_id='6', lifecycle_stage='active', name='ML_Housing', tags={}>"
      ]
     },
     "execution_count": 4,
     "metadata": {},
     "output_type": "execute_result"
    }
   ],
   "source": [
    "# mlflow server --backend-store-uri mlruns/ --default-artifact-root mlruns/ --host 0.0.0.0 --port 5000\n",
    "remote_server_uri = \"http://0.0.0.0:5000\" # set to your server URI\n",
    "mlflow.set_tracking_uri(remote_server_uri)  # or set the MLFLOW_TRACKING_URI in the env\n",
    "\n",
    "exp_name = \"ML_Housing\"\n",
    "mlflow.set_experiment(exp_name)"
   ]
  },
  {
   "cell_type": "markdown",
   "id": "ca18fd68",
   "metadata": {},
   "source": [
    "# DATA"
   ]
  },
  {
   "cell_type": "markdown",
   "id": "decfa432",
   "metadata": {},
   "source": [
    "## LOADING DATA"
   ]
  },
  {
   "cell_type": "code",
   "execution_count": 5,
   "id": "bf45be58",
   "metadata": {},
   "outputs": [],
   "source": [
    "def load_raw_data( \n",
    "    housing_url = \"https://raw.githubusercontent.com/ageron/handson-ml2/master/datasets/housing/housing.tgz\", \n",
    "    housing_path = os.path.join(\"datasets\", \"housing\")\n",
    "):\n",
    "    \n",
    "    #fetching housing data\n",
    "    os.makedirs(housing_path, exist_ok=True)\n",
    "    tgz_path = os.path.join(housing_path, \"housing.tgz\")\n",
    "    urllib.request.urlretrieve(housing_url, tgz_path)\n",
    "    housing_tgz = tarfile.open(tgz_path)\n",
    "    housing_tgz.extractall(path=housing_path)\n",
    "    housing_tgz.close()\n",
    "    \n",
    "    #loading the data as a Dataframe\n",
    "    csv_path = os.path.join(housing_path, \"housing.csv\")\n",
    "    df = pd.read_csv(csv_path)\n",
    "    \n",
    "    mlflow.log_artifact(csv_path)\n",
    "    \n",
    "    return df"
   ]
  },
  {
   "cell_type": "markdown",
   "id": "45b28f96",
   "metadata": {},
   "source": [
    "## TRAIN TEST SPLIT"
   ]
  },
  {
   "cell_type": "code",
   "execution_count": 6,
   "id": "faceb100",
   "metadata": {},
   "outputs": [],
   "source": [
    "def train_test(df):\n",
    "    #creating training and test set\n",
    "    df[\"income_cat\"] = pd.cut(\n",
    "        df[\"median_income\"], \n",
    "        bins=[0., 1.5, 3.0, 4.5, 6., np.inf], \n",
    "        labels=[1, 2, 3, 4, 5]\n",
    "    )\n",
    "    \n",
    "    split = StratifiedShuffleSplit(n_splits=1, test_size=0.2, random_state=42)\n",
    "    for train_index, test_index in split.split(df, df[\"income_cat\"]):\n",
    "        strat_train_set = df.loc[train_index]\n",
    "        strat_test_set = df.loc[test_index]\n",
    "        \n",
    "        for set_ in (strat_train_set, strat_test_set):\n",
    "            set_.drop(\"income_cat\", axis=1, inplace=True)\n",
    "            \n",
    "    mlflow.log_metric(\"training_nrows\", len(strat_train_set))\n",
    "    mlflow.log_metric(\"test_nrows\", len(strat_test_set))\n",
    "    \n",
    "    return strat_train_set, strat_test_set"
   ]
  },
  {
   "cell_type": "markdown",
   "id": "7f1be957",
   "metadata": {},
   "source": [
    "## DATA DESCRIPTION"
   ]
  },
  {
   "cell_type": "code",
   "execution_count": 7,
   "id": "84f84e63",
   "metadata": {},
   "outputs": [],
   "source": [
    "def data_description(df, train):\n",
    "    #creating a file containing data description\n",
    "    with open(\"data_description.txt\", 'w') as f:\n",
    "        f.write(f\"\"\"\n",
    "        'Original DataFrame'\n",
    "        Value count of ocean proximity:\n",
    "        {df[\"ocean_proximity\"].value_counts()}\n",
    "        \n",
    "        'Training data'\n",
    "        Feature: {list(train.columns)}\n",
    "        Shape: {train.shape}\n",
    "        \n",
    "        Data description:\n",
    "        {train.describe()}\n",
    "        \n",
    "        Correlation:\n",
    "        {train.corr()[\"median_house_value\"].round(2)}\n",
    "        \"\"\")\n",
    "        \n",
    "    mlflow.log_artifact(\"data_description.txt\")"
   ]
  },
  {
   "cell_type": "markdown",
   "id": "cce598b3",
   "metadata": {},
   "source": [
    "## FINAL FUNCTION"
   ]
  },
  {
   "cell_type": "code",
   "execution_count": 8,
   "id": "5cef955e",
   "metadata": {},
   "outputs": [],
   "source": [
    "def data_loading():\n",
    "    #to upload the artifacts and metrics to mlrun server\n",
    "    with mlflow.start_run(run_name= \"Data_loading_and_split\", nested=True) as child_run_load:\n",
    "        df = load_raw_data()\n",
    "        train, test = train_test(df)\n",
    "        data_description(df, train)\n",
    "    return train, test"
   ]
  },
  {
   "cell_type": "markdown",
   "id": "bb1c5e95",
   "metadata": {},
   "source": [
    "# MODELLING"
   ]
  },
  {
   "cell_type": "markdown",
   "id": "a6ca3949",
   "metadata": {},
   "source": [
    "## BASIC MODEL"
   ]
  },
  {
   "cell_type": "code",
   "execution_count": 9,
   "id": "ed9a05f1",
   "metadata": {},
   "outputs": [],
   "source": [
    "rooms_ix, bedrooms_ix, population_ix, households_ix = 3, 4, 5, 6\n",
    "\n",
    "class CombinedAttributesAdder(BaseEstimator, TransformerMixin):\n",
    "    def __init__(self, add_bedrooms_per_room = True): # no *args or **kargs\n",
    "        self.add_bedrooms_per_room = add_bedrooms_per_room\n",
    "    def fit(self, X, y=None):\n",
    "        return self  # nothing else to do\n",
    "    def transform(self, X):\n",
    "        rooms_per_household = X[:, rooms_ix] / X[:, households_ix]\n",
    "        population_per_household = X[:, population_ix] / X[:, households_ix]\n",
    "        if self.add_bedrooms_per_room:\n",
    "            bedrooms_per_room = X[:, bedrooms_ix] / X[:, rooms_ix]\n",
    "            return np.c_[X, rooms_per_household, population_per_household,\n",
    "                         bedrooms_per_room]\n",
    "        else:\n",
    "            return np.c_[X, rooms_per_household, population_per_household]"
   ]
  },
  {
   "cell_type": "code",
   "execution_count": 10,
   "id": "747b934a",
   "metadata": {},
   "outputs": [],
   "source": [
    "def eval_matrics(model, train_x, train_y):\n",
    "    #function to get r2 score using cross_val_score\n",
    "    scores = cross_val_score(model, train_x, train_y, \n",
    "                            scoring= \"r2\", cv= 10)\n",
    "    return scores.mean()\n",
    "\n",
    "def basic_modeling(train):\n",
    "    housing = train.drop(\"median_house_value\", axis=1)\n",
    "    housing_labels = train[\"median_house_value\"].copy()\n",
    "    \n",
    "    num_pipeline = Pipeline([\n",
    "        ('imputer', SimpleImputer(strategy=\"median\")), \n",
    "        ('attribs_adder', CombinedAttributesAdder()), \n",
    "        ('std_scaler', StandardScaler()),\n",
    "    ])\n",
    "    full_pipeline = ColumnTransformer([\n",
    "        (\"num\", num_pipeline, list(housing.drop(\"ocean_proximity\", axis=1))),\n",
    "        (\"cat\", OneHotEncoder(), [\"ocean_proximity\"]),\n",
    "    ])\n",
    "\n",
    "    housing_prepared = full_pipeline.fit_transform(housing)\n",
    "    \n",
    "    models = {\n",
    "        \"Linear_reg\": LinearRegression(), \n",
    "        \"Decision_tree\": DecisionTreeRegressor(), \n",
    "        \"Random_forest\": RandomForestRegressor()\n",
    "    }\n",
    "    \n",
    "    with mlflow.start_run(run_name= \"Basic_model\", nested=True) as child_run_basic:\n",
    "        for model in models:\n",
    "            mlflow.log_metric(\n",
    "                f\"{model}_R2_Score\", \n",
    "                eval_matrics(models[model], housing_prepared, housing_labels)\n",
    "            )\n",
    "    return housing_prepared, housing_labels, full_pipeline"
   ]
  },
  {
   "cell_type": "markdown",
   "id": "6a1f78e0",
   "metadata": {},
   "source": [
    "## FINE TUNING"
   ]
  },
  {
   "cell_type": "code",
   "execution_count": 11,
   "id": "62e851c6",
   "metadata": {},
   "outputs": [],
   "source": [
    "def model_search(housing_prepared, housing_labels):\n",
    "    params_grid = [\n",
    "        {\"n_estimators\" : [3, 10 ,30, 100, 300], \"max_features\" : [2, 4, 6, 8, 10]},\n",
    "        {\"bootstrap\" : [0], \"n_estimators\" : [3, 10, 30, 100], \"max_features\" : [2, 3, 4, 6]}\n",
    "    ]\n",
    "    \n",
    "    forest_reg = RandomForestRegressor(random_state=42)\n",
    "    grid_search = GridSearchCV(forest_reg, params_grid, cv=5, \n",
    "                               scoring = \"r2\",\n",
    "                               return_train_score=True, \n",
    "                               verbose= 3)\n",
    "    grid_search.fit(housing_prepared, housing_labels)\n",
    "    \n",
    "    with mlflow.start_run(run_name= \"Best_model\", nested=True) as child_run_model:\n",
    "        mlflow.log_params(grid_search.best_params_)\n",
    "        mlflow.log_metric(\"Best_score\", grid_search.best_score_)\n",
    "        mlflow.sklearn.log_model(grid_search.best_estimator_, \"model\")\n",
    "        \n",
    "    return grid_search.best_estimator_, grid_search.best_score_"
   ]
  },
  {
   "cell_type": "markdown",
   "id": "8f4a8a5b",
   "metadata": {},
   "source": [
    "## TEST SET"
   ]
  },
  {
   "cell_type": "code",
   "execution_count": 12,
   "id": "cc6c1297",
   "metadata": {},
   "outputs": [],
   "source": [
    "def test_set(test, full_pipeline, model):\n",
    "    x_test = test.drop(\"median_house_value\", axis = 1)\n",
    "    y_test = test[\"median_house_value\"].copy()\n",
    "\n",
    "    x_test_prepared = full_pipeline.transform(x_test)\n",
    "    y_final_pred = model.predict(x_test_prepared)\n",
    "\n",
    "    #r2 error\n",
    "    r2 = r2_score(y_test, y_final_pred)\n",
    "    print(f\"Final R2 score of the model is : {r2.round(3)}\")\n",
    "\n",
    "    with mlflow.start_run(run_name= \"Test set\", nested= True) as child_run_test:\n",
    "        mlflow.log_metric(\"R2_score\", r2)\n",
    "        \n",
    "    return r2"
   ]
  },
  {
   "cell_type": "markdown",
   "id": "742e5916",
   "metadata": {},
   "source": [
    "# MAIN"
   ]
  },
  {
   "cell_type": "code",
   "execution_count": 18,
   "id": "8ac14a19",
   "metadata": {},
   "outputs": [],
   "source": [
    "def main():\n",
    "    with mlflow.start_run(run_name= \"ML_LIFECYCLE\") as parent_run:\n",
    "        train, test = data_loading()\n",
    "        housing_prepared, housing_labels, full_pipeline = basic_modeling(train)\n",
    "        final_model, score = model_search(housing_prepared, housing_labels)\n",
    "        test_set(test, full_pipeline, final_model)\n",
    "        mlflow.sklearn.log_model(final_model, \"model\")"
   ]
  },
  {
   "cell_type": "code",
   "execution_count": 19,
   "id": "a47ef3a7",
   "metadata": {},
   "outputs": [
    {
     "name": "stdout",
     "output_type": "stream",
     "text": [
      "Fitting 5 folds for each of 41 candidates, totalling 205 fits\n",
      "[CV 1/5] END max_features=2, n_estimators=3;, score=(train=0.914, test=0.689) total time=   0.2s\n",
      "[CV 2/5] END max_features=2, n_estimators=3;, score=(train=0.919, test=0.718) total time=   0.2s\n",
      "[CV 3/5] END max_features=2, n_estimators=3;, score=(train=0.914, test=0.684) total time=   0.2s\n",
      "[CV 4/5] END max_features=2, n_estimators=3;, score=(train=0.916, test=0.694) total time=   0.2s\n",
      "[CV 5/5] END max_features=2, n_estimators=3;, score=(train=0.918, test=0.689) total time=   0.2s\n",
      "[CV 1/5] END max_features=2, n_estimators=10;, score=(train=0.955, test=0.776) total time=   0.6s\n",
      "[CV 2/5] END max_features=2, n_estimators=10;, score=(train=0.956, test=0.788) total time=   0.6s\n",
      "[CV 3/5] END max_features=2, n_estimators=10;, score=(train=0.954, test=0.770) total time=   0.6s\n",
      "[CV 4/5] END max_features=2, n_estimators=10;, score=(train=0.957, test=0.768) total time=   0.6s\n",
      "[CV 5/5] END max_features=2, n_estimators=10;, score=(train=0.956, test=0.772) total time=   0.7s\n",
      "[CV 1/5] END max_features=2, n_estimators=30;, score=(train=0.967, test=0.789) total time=   1.7s\n",
      "[CV 2/5] END max_features=2, n_estimators=30;, score=(train=0.968, test=0.798) total time=   1.8s\n",
      "[CV 3/5] END max_features=2, n_estimators=30;, score=(train=0.966, test=0.795) total time=   1.7s\n",
      "[CV 4/5] END max_features=2, n_estimators=30;, score=(train=0.968, test=0.785) total time=   1.8s\n",
      "[CV 5/5] END max_features=2, n_estimators=30;, score=(train=0.968, test=0.789) total time=   1.7s\n",
      "[CV 1/5] END max_features=2, n_estimators=100;, score=(train=0.972, test=0.797) total time=   5.9s\n",
      "[CV 2/5] END max_features=2, n_estimators=100;, score=(train=0.972, test=0.806) total time=   3.9s\n",
      "[CV 3/5] END max_features=2, n_estimators=100;, score=(train=0.971, test=0.807) total time=   3.9s\n",
      "[CV 4/5] END max_features=2, n_estimators=100;, score=(train=0.971, test=0.792) total time=   3.9s\n",
      "[CV 5/5] END max_features=2, n_estimators=100;, score=(train=0.972, test=0.797) total time=   3.7s\n",
      "[CV 1/5] END max_features=2, n_estimators=300;, score=(train=0.973, test=0.799) total time=  11.1s\n",
      "[CV 2/5] END max_features=2, n_estimators=300;, score=(train=0.972, test=0.807) total time=  11.2s\n",
      "[CV 3/5] END max_features=2, n_estimators=300;, score=(train=0.972, test=0.808) total time=  11.3s\n",
      "[CV 4/5] END max_features=2, n_estimators=300;, score=(train=0.972, test=0.796) total time=  11.1s\n",
      "[CV 5/5] END max_features=2, n_estimators=300;, score=(train=0.973, test=0.799) total time=  11.3s\n",
      "[CV 1/5] END max_features=4, n_estimators=3;, score=(train=0.927, test=0.734) total time=   0.2s\n",
      "[CV 2/5] END max_features=4, n_estimators=3;, score=(train=0.927, test=0.736) total time=   0.2s\n",
      "[CV 3/5] END max_features=4, n_estimators=3;, score=(train=0.925, test=0.738) total time=   0.2s\n",
      "[CV 4/5] END max_features=4, n_estimators=3;, score=(train=0.924, test=0.728) total time=   0.2s\n",
      "[CV 5/5] END max_features=4, n_estimators=3;, score=(train=0.924, test=0.716) total time=   0.2s\n",
      "[CV 1/5] END max_features=4, n_estimators=10;, score=(train=0.962, test=0.793) total time=   0.6s\n",
      "[CV 2/5] END max_features=4, n_estimators=10;, score=(train=0.961, test=0.803) total time=   0.6s\n",
      "[CV 3/5] END max_features=4, n_estimators=10;, score=(train=0.962, test=0.803) total time=   0.7s\n",
      "[CV 4/5] END max_features=4, n_estimators=10;, score=(train=0.961, test=0.787) total time=   0.6s\n",
      "[CV 5/5] END max_features=4, n_estimators=10;, score=(train=0.960, test=0.785) total time=   0.6s\n",
      "[CV 1/5] END max_features=4, n_estimators=30;, score=(train=0.972, test=0.810) total time=   1.9s\n",
      "[CV 2/5] END max_features=4, n_estimators=30;, score=(train=0.971, test=0.816) total time=   1.9s\n",
      "[CV 3/5] END max_features=4, n_estimators=30;, score=(train=0.971, test=0.820) total time=   1.9s\n",
      "[CV 4/5] END max_features=4, n_estimators=30;, score=(train=0.971, test=0.808) total time=   1.9s\n",
      "[CV 5/5] END max_features=4, n_estimators=30;, score=(train=0.971, test=0.806) total time=   1.8s\n",
      "[CV 1/5] END max_features=4, n_estimators=100;, score=(train=0.974, test=0.813) total time=   6.3s\n",
      "[CV 2/5] END max_features=4, n_estimators=100;, score=(train=0.974, test=0.822) total time=   6.2s\n",
      "[CV 3/5] END max_features=4, n_estimators=100;, score=(train=0.974, test=0.826) total time=   6.2s\n",
      "[CV 4/5] END max_features=4, n_estimators=100;, score=(train=0.974, test=0.812) total time=   6.2s\n",
      "[CV 5/5] END max_features=4, n_estimators=100;, score=(train=0.974, test=0.812) total time=   6.2s\n",
      "[CV 1/5] END max_features=4, n_estimators=300;, score=(train=0.975, test=0.813) total time=  18.9s\n",
      "[CV 2/5] END max_features=4, n_estimators=300;, score=(train=0.975, test=0.823) total time=  18.6s\n",
      "[CV 3/5] END max_features=4, n_estimators=300;, score=(train=0.974, test=0.825) total time=  18.7s\n",
      "[CV 4/5] END max_features=4, n_estimators=300;, score=(train=0.975, test=0.812) total time=  18.7s\n",
      "[CV 5/5] END max_features=4, n_estimators=300;, score=(train=0.975, test=0.812) total time=  18.7s\n",
      "[CV 1/5] END max_features=6, n_estimators=3;, score=(train=0.934, test=0.747) total time=   0.2s\n",
      "[CV 2/5] END max_features=6, n_estimators=3;, score=(train=0.929, test=0.750) total time=   0.3s\n",
      "[CV 3/5] END max_features=6, n_estimators=3;, score=(train=0.933, test=0.762) total time=   0.2s\n",
      "[CV 4/5] END max_features=6, n_estimators=3;, score=(train=0.933, test=0.731) total time=   0.3s\n",
      "[CV 5/5] END max_features=6, n_estimators=3;, score=(train=0.931, test=0.751) total time=   0.2s\n",
      "[CV 1/5] END max_features=6, n_estimators=10;, score=(train=0.963, test=0.802) total time=   0.8s\n",
      "[CV 2/5] END max_features=6, n_estimators=10;, score=(train=0.962, test=0.798) total time=   0.9s\n",
      "[CV 3/5] END max_features=6, n_estimators=10;, score=(train=0.962, test=0.810) total time=   0.8s\n",
      "[CV 4/5] END max_features=6, n_estimators=10;, score=(train=0.963, test=0.794) total time=   0.9s\n",
      "[CV 5/5] END max_features=6, n_estimators=10;, score=(train=0.961, test=0.803) total time=   0.8s\n",
      "[CV 1/5] END max_features=6, n_estimators=30;, score=(train=0.972, test=0.816) total time=   2.6s\n",
      "[CV 2/5] END max_features=6, n_estimators=30;, score=(train=0.971, test=0.815) total time=   2.6s\n",
      "[CV 3/5] END max_features=6, n_estimators=30;, score=(train=0.971, test=0.819) total time=   2.5s\n",
      "[CV 4/5] END max_features=6, n_estimators=30;, score=(train=0.972, test=0.811) total time=   2.6s\n",
      "[CV 5/5] END max_features=6, n_estimators=30;, score=(train=0.971, test=0.807) total time=   2.6s\n",
      "[CV 1/5] END max_features=6, n_estimators=100;, score=(train=0.975, test=0.818) total time=   8.5s\n",
      "[CV 2/5] END max_features=6, n_estimators=100;, score=(train=0.974, test=0.822) total time=   8.6s\n",
      "[CV 3/5] END max_features=6, n_estimators=100;, score=(train=0.974, test=0.825) total time=   8.6s\n",
      "[CV 4/5] END max_features=6, n_estimators=100;, score=(train=0.975, test=0.815) total time=   8.7s\n",
      "[CV 5/5] END max_features=6, n_estimators=100;, score=(train=0.974, test=0.811) total time=   8.7s\n",
      "[CV 1/5] END max_features=6, n_estimators=300;, score=(train=0.976, test=0.818) total time=  25.7s\n",
      "[CV 2/5] END max_features=6, n_estimators=300;, score=(train=0.975, test=0.824) total time=  26.0s\n",
      "[CV 3/5] END max_features=6, n_estimators=300;, score=(train=0.975, test=0.827) total time=  26.4s\n",
      "[CV 4/5] END max_features=6, n_estimators=300;, score=(train=0.975, test=0.816) total time=  26.0s\n",
      "[CV 5/5] END max_features=6, n_estimators=300;, score=(train=0.975, test=0.813) total time=  26.1s\n",
      "[CV 1/5] END max_features=8, n_estimators=3;, score=(train=0.929, test=0.729) total time=   0.3s\n",
      "[CV 2/5] END max_features=8, n_estimators=3;, score=(train=0.932, test=0.756) total time=   0.3s\n",
      "[CV 3/5] END max_features=8, n_estimators=3;, score=(train=0.932, test=0.744) total time=   0.3s\n",
      "[CV 4/5] END max_features=8, n_estimators=3;, score=(train=0.932, test=0.735) total time=   0.3s\n",
      "[CV 5/5] END max_features=8, n_estimators=3;, score=(train=0.929, test=0.740) total time=   0.3s\n",
      "[CV 1/5] END max_features=8, n_estimators=10;, score=(train=0.963, test=0.795) total time=   1.1s\n",
      "[CV 2/5] END max_features=8, n_estimators=10;, score=(train=0.963, test=0.798) total time=   1.1s\n",
      "[CV 3/5] END max_features=8, n_estimators=10;, score=(train=0.962, test=0.798) total time=   1.1s\n"
     ]
    },
    {
     "name": "stdout",
     "output_type": "stream",
     "text": [
      "[CV 4/5] END max_features=8, n_estimators=10;, score=(train=0.962, test=0.788) total time=   1.1s\n",
      "[CV 5/5] END max_features=8, n_estimators=10;, score=(train=0.960, test=0.793) total time=   1.1s\n",
      "[CV 1/5] END max_features=8, n_estimators=30;, score=(train=0.972, test=0.812) total time=   3.4s\n",
      "[CV 2/5] END max_features=8, n_estimators=30;, score=(train=0.971, test=0.815) total time=   3.3s\n",
      "[CV 3/5] END max_features=8, n_estimators=30;, score=(train=0.971, test=0.823) total time=   3.3s\n",
      "[CV 4/5] END max_features=8, n_estimators=30;, score=(train=0.972, test=0.809) total time=   3.3s\n",
      "[CV 5/5] END max_features=8, n_estimators=30;, score=(train=0.971, test=0.811) total time=   3.4s\n",
      "[CV 1/5] END max_features=8, n_estimators=100;, score=(train=0.974, test=0.815) total time=  11.2s\n",
      "[CV 2/5] END max_features=8, n_estimators=100;, score=(train=0.974, test=0.823) total time=  11.2s\n",
      "[CV 3/5] END max_features=8, n_estimators=100;, score=(train=0.974, test=0.826) total time=  11.4s\n",
      "[CV 4/5] END max_features=8, n_estimators=100;, score=(train=0.974, test=0.812) total time=  11.2s\n",
      "[CV 5/5] END max_features=8, n_estimators=100;, score=(train=0.974, test=0.813) total time=  11.2s\n",
      "[CV 1/5] END max_features=8, n_estimators=300;, score=(train=0.975, test=0.818) total time=  33.3s\n",
      "[CV 2/5] END max_features=8, n_estimators=300;, score=(train=0.975, test=0.824) total time=  33.5s\n",
      "[CV 3/5] END max_features=8, n_estimators=300;, score=(train=0.975, test=0.828) total time=  33.5s\n",
      "[CV 4/5] END max_features=8, n_estimators=300;, score=(train=0.975, test=0.813) total time=  33.6s\n",
      "[CV 5/5] END max_features=8, n_estimators=300;, score=(train=0.975, test=0.815) total time=  33.2s\n",
      "[CV 1/5] END max_features=10, n_estimators=3;, score=(train=0.933, test=0.756) total time=   0.4s\n",
      "[CV 2/5] END max_features=10, n_estimators=3;, score=(train=0.935, test=0.758) total time=   0.4s\n",
      "[CV 3/5] END max_features=10, n_estimators=3;, score=(train=0.931, test=0.746) total time=   0.4s\n",
      "[CV 4/5] END max_features=10, n_estimators=3;, score=(train=0.932, test=0.738) total time=   0.4s\n",
      "[CV 5/5] END max_features=10, n_estimators=3;, score=(train=0.931, test=0.753) total time=   0.4s\n",
      "[CV 1/5] END max_features=10, n_estimators=10;, score=(train=0.963, test=0.799) total time=   1.4s\n",
      "[CV 2/5] END max_features=10, n_estimators=10;, score=(train=0.962, test=0.799) total time=   1.4s\n",
      "[CV 3/5] END max_features=10, n_estimators=10;, score=(train=0.962, test=0.804) total time=   1.3s\n",
      "[CV 4/5] END max_features=10, n_estimators=10;, score=(train=0.962, test=0.788) total time=   1.4s\n",
      "[CV 5/5] END max_features=10, n_estimators=10;, score=(train=0.961, test=0.799) total time=   1.4s\n",
      "[CV 1/5] END max_features=10, n_estimators=30;, score=(train=0.971, test=0.814) total time=   4.0s\n",
      "[CV 2/5] END max_features=10, n_estimators=30;, score=(train=0.971, test=0.815) total time=   4.1s\n",
      "[CV 3/5] END max_features=10, n_estimators=30;, score=(train=0.971, test=0.817) total time=   4.0s\n",
      "[CV 4/5] END max_features=10, n_estimators=30;, score=(train=0.972, test=0.805) total time=   4.1s\n",
      "[CV 5/5] END max_features=10, n_estimators=30;, score=(train=0.971, test=0.809) total time=   4.1s\n",
      "[CV 1/5] END max_features=10, n_estimators=100;, score=(train=0.974, test=0.816) total time=  13.6s\n",
      "[CV 2/5] END max_features=10, n_estimators=100;, score=(train=0.974, test=0.820) total time=  13.6s\n",
      "[CV 3/5] END max_features=10, n_estimators=100;, score=(train=0.974, test=0.821) total time=  13.6s\n",
      "[CV 4/5] END max_features=10, n_estimators=100;, score=(train=0.975, test=0.810) total time=  13.7s\n",
      "[CV 5/5] END max_features=10, n_estimators=100;, score=(train=0.974, test=0.813) total time=  13.6s\n",
      "[CV 1/5] END max_features=10, n_estimators=300;, score=(train=0.975, test=0.819) total time=  40.6s\n",
      "[CV 2/5] END max_features=10, n_estimators=300;, score=(train=0.975, test=0.821) total time=  40.5s\n",
      "[CV 3/5] END max_features=10, n_estimators=300;, score=(train=0.975, test=0.823) total time=  40.9s\n",
      "[CV 4/5] END max_features=10, n_estimators=300;, score=(train=0.975, test=0.811) total time=  40.7s\n",
      "[CV 5/5] END max_features=10, n_estimators=300;, score=(train=0.975, test=0.813) total time=  40.9s\n",
      "[CV 1/5] END bootstrap=0, max_features=2, n_estimators=3;, score=(train=1.000, test=0.697) total time=   0.2s\n",
      "[CV 2/5] END bootstrap=0, max_features=2, n_estimators=3;, score=(train=1.000, test=0.701) total time=   0.2s\n",
      "[CV 3/5] END bootstrap=0, max_features=2, n_estimators=3;, score=(train=1.000, test=0.712) total time=   0.2s\n",
      "[CV 4/5] END bootstrap=0, max_features=2, n_estimators=3;, score=(train=1.000, test=0.713) total time=   0.2s\n",
      "[CV 5/5] END bootstrap=0, max_features=2, n_estimators=3;, score=(train=1.000, test=0.722) total time=   0.2s\n",
      "[CV 1/5] END bootstrap=0, max_features=2, n_estimators=10;, score=(train=1.000, test=0.781) total time=   0.6s\n",
      "[CV 2/5] END bootstrap=0, max_features=2, n_estimators=10;, score=(train=1.000, test=0.770) total time=   0.6s\n",
      "[CV 3/5] END bootstrap=0, max_features=2, n_estimators=10;, score=(train=1.000, test=0.781) total time=   0.6s\n",
      "[CV 4/5] END bootstrap=0, max_features=2, n_estimators=10;, score=(train=1.000, test=0.777) total time=   0.6s\n",
      "[CV 5/5] END bootstrap=0, max_features=2, n_estimators=10;, score=(train=1.000, test=0.782) total time=   0.6s\n",
      "[CV 1/5] END bootstrap=0, max_features=2, n_estimators=30;, score=(train=1.000, test=0.796) total time=   1.8s\n",
      "[CV 2/5] END bootstrap=0, max_features=2, n_estimators=30;, score=(train=1.000, test=0.794) total time=   1.7s\n",
      "[CV 3/5] END bootstrap=0, max_features=2, n_estimators=30;, score=(train=1.000, test=0.799) total time=   1.8s\n",
      "[CV 4/5] END bootstrap=0, max_features=2, n_estimators=30;, score=(train=1.000, test=0.792) total time=   1.8s\n",
      "[CV 5/5] END bootstrap=0, max_features=2, n_estimators=30;, score=(train=1.000, test=0.796) total time=   1.8s\n",
      "[CV 1/5] END bootstrap=0, max_features=2, n_estimators=100;, score=(train=1.000, test=0.804) total time=   5.9s\n",
      "[CV 2/5] END bootstrap=0, max_features=2, n_estimators=100;, score=(train=1.000, test=0.811) total time=   5.9s\n",
      "[CV 3/5] END bootstrap=0, max_features=2, n_estimators=100;, score=(train=1.000, test=0.811) total time=   6.0s\n",
      "[CV 4/5] END bootstrap=0, max_features=2, n_estimators=100;, score=(train=1.000, test=0.801) total time=   5.8s\n",
      "[CV 5/5] END bootstrap=0, max_features=2, n_estimators=100;, score=(train=1.000, test=0.804) total time=   5.9s\n",
      "[CV 1/5] END bootstrap=0, max_features=3, n_estimators=3;, score=(train=1.000, test=0.722) total time=   0.2s\n",
      "[CV 2/5] END bootstrap=0, max_features=3, n_estimators=3;, score=(train=1.000, test=0.739) total time=   0.2s\n",
      "[CV 3/5] END bootstrap=0, max_features=3, n_estimators=3;, score=(train=1.000, test=0.731) total time=   0.2s\n",
      "[CV 4/5] END bootstrap=0, max_features=3, n_estimators=3;, score=(train=1.000, test=0.730) total time=   0.2s\n",
      "[CV 5/5] END bootstrap=0, max_features=3, n_estimators=3;, score=(train=1.000, test=0.734) total time=   0.2s\n",
      "[CV 1/5] END bootstrap=0, max_features=3, n_estimators=10;, score=(train=1.000, test=0.786) total time=   0.8s\n",
      "[CV 2/5] END bootstrap=0, max_features=3, n_estimators=10;, score=(train=1.000, test=0.802) total time=   0.8s\n",
      "[CV 3/5] END bootstrap=0, max_features=3, n_estimators=10;, score=(train=1.000, test=0.793) total time=   0.8s\n",
      "[CV 4/5] END bootstrap=0, max_features=3, n_estimators=10;, score=(train=1.000, test=0.792) total time=   0.8s\n",
      "[CV 5/5] END bootstrap=0, max_features=3, n_estimators=10;, score=(train=1.000, test=0.788) total time=   0.8s\n",
      "[CV 1/5] END bootstrap=0, max_features=3, n_estimators=30;, score=(train=1.000, test=0.807) total time=   2.3s\n",
      "[CV 2/5] END bootstrap=0, max_features=3, n_estimators=30;, score=(train=1.000, test=0.818) total time=   2.4s\n",
      "[CV 3/5] END bootstrap=0, max_features=3, n_estimators=30;, score=(train=1.000, test=0.820) total time=   2.4s\n",
      "[CV 4/5] END bootstrap=0, max_features=3, n_estimators=30;, score=(train=1.000, test=0.810) total time=   2.3s\n",
      "[CV 5/5] END bootstrap=0, max_features=3, n_estimators=30;, score=(train=1.000, test=0.807) total time=   2.4s\n",
      "[CV 1/5] END bootstrap=0, max_features=3, n_estimators=100;, score=(train=1.000, test=0.815) total time=   7.9s\n",
      "[CV 2/5] END bootstrap=0, max_features=3, n_estimators=100;, score=(train=1.000, test=0.823) total time=   8.0s\n"
     ]
    },
    {
     "name": "stdout",
     "output_type": "stream",
     "text": [
      "[CV 3/5] END bootstrap=0, max_features=3, n_estimators=100;, score=(train=1.000, test=0.825) total time=   8.2s\n",
      "[CV 4/5] END bootstrap=0, max_features=3, n_estimators=100;, score=(train=1.000, test=0.813) total time=   8.4s\n",
      "[CV 5/5] END bootstrap=0, max_features=3, n_estimators=100;, score=(train=1.000, test=0.815) total time=   7.8s\n",
      "[CV 1/5] END bootstrap=0, max_features=4, n_estimators=3;, score=(train=1.000, test=0.732) total time=   0.3s\n",
      "[CV 2/5] END bootstrap=0, max_features=4, n_estimators=3;, score=(train=1.000, test=0.749) total time=   0.3s\n",
      "[CV 3/5] END bootstrap=0, max_features=4, n_estimators=3;, score=(train=1.000, test=0.760) total time=   0.3s\n",
      "[CV 4/5] END bootstrap=0, max_features=4, n_estimators=3;, score=(train=1.000, test=0.752) total time=   0.3s\n",
      "[CV 5/5] END bootstrap=0, max_features=4, n_estimators=3;, score=(train=1.000, test=0.756) total time=   0.3s\n",
      "[CV 1/5] END bootstrap=0, max_features=4, n_estimators=10;, score=(train=1.000, test=0.797) total time=   1.0s\n",
      "[CV 2/5] END bootstrap=0, max_features=4, n_estimators=10;, score=(train=1.000, test=0.808) total time=   1.0s\n",
      "[CV 3/5] END bootstrap=0, max_features=4, n_estimators=10;, score=(train=1.000, test=0.811) total time=   0.9s\n",
      "[CV 4/5] END bootstrap=0, max_features=4, n_estimators=10;, score=(train=1.000, test=0.805) total time=   1.0s\n",
      "[CV 5/5] END bootstrap=0, max_features=4, n_estimators=10;, score=(train=1.000, test=0.797) total time=   1.0s\n",
      "[CV 1/5] END bootstrap=0, max_features=4, n_estimators=30;, score=(train=1.000, test=0.815) total time=   3.0s\n",
      "[CV 2/5] END bootstrap=0, max_features=4, n_estimators=30;, score=(train=1.000, test=0.823) total time=   2.9s\n",
      "[CV 3/5] END bootstrap=0, max_features=4, n_estimators=30;, score=(train=1.000, test=0.827) total time=   3.0s\n",
      "[CV 4/5] END bootstrap=0, max_features=4, n_estimators=30;, score=(train=1.000, test=0.817) total time=   3.0s\n",
      "[CV 5/5] END bootstrap=0, max_features=4, n_estimators=30;, score=(train=1.000, test=0.813) total time=   3.0s\n",
      "[CV 1/5] END bootstrap=0, max_features=4, n_estimators=100;, score=(train=1.000, test=0.819) total time=   9.9s\n",
      "[CV 2/5] END bootstrap=0, max_features=4, n_estimators=100;, score=(train=1.000, test=0.825) total time=  10.0s\n",
      "[CV 3/5] END bootstrap=0, max_features=4, n_estimators=100;, score=(train=1.000, test=0.833) total time=   9.9s\n",
      "[CV 4/5] END bootstrap=0, max_features=4, n_estimators=100;, score=(train=1.000, test=0.819) total time=   9.9s\n",
      "[CV 5/5] END bootstrap=0, max_features=4, n_estimators=100;, score=(train=1.000, test=0.817) total time=  10.0s\n",
      "[CV 1/5] END bootstrap=0, max_features=6, n_estimators=3;, score=(train=1.000, test=0.759) total time=   0.4s\n",
      "[CV 2/5] END bootstrap=0, max_features=6, n_estimators=3;, score=(train=1.000, test=0.756) total time=   0.4s\n",
      "[CV 3/5] END bootstrap=0, max_features=6, n_estimators=3;, score=(train=1.000, test=0.773) total time=   0.4s\n",
      "[CV 4/5] END bootstrap=0, max_features=6, n_estimators=3;, score=(train=1.000, test=0.745) total time=   0.4s\n",
      "[CV 5/5] END bootstrap=0, max_features=6, n_estimators=3;, score=(train=1.000, test=0.758) total time=   0.4s\n",
      "[CV 1/5] END bootstrap=0, max_features=6, n_estimators=10;, score=(train=1.000, test=0.804) total time=   1.4s\n",
      "[CV 2/5] END bootstrap=0, max_features=6, n_estimators=10;, score=(train=1.000, test=0.812) total time=   1.4s\n",
      "[CV 3/5] END bootstrap=0, max_features=6, n_estimators=10;, score=(train=1.000, test=0.817) total time=   1.4s\n",
      "[CV 4/5] END bootstrap=0, max_features=6, n_estimators=10;, score=(train=1.000, test=0.799) total time=   1.4s\n",
      "[CV 5/5] END bootstrap=0, max_features=6, n_estimators=10;, score=(train=1.000, test=0.802) total time=   1.4s\n",
      "[CV 1/5] END bootstrap=0, max_features=6, n_estimators=30;, score=(train=1.000, test=0.817) total time=   4.2s\n",
      "[CV 2/5] END bootstrap=0, max_features=6, n_estimators=30;, score=(train=1.000, test=0.823) total time=   4.3s\n",
      "[CV 3/5] END bootstrap=0, max_features=6, n_estimators=30;, score=(train=1.000, test=0.826) total time=   4.2s\n",
      "[CV 4/5] END bootstrap=0, max_features=6, n_estimators=30;, score=(train=1.000, test=0.810) total time=   4.2s\n",
      "[CV 5/5] END bootstrap=0, max_features=6, n_estimators=30;, score=(train=1.000, test=0.811) total time=   4.2s\n",
      "[CV 1/5] END bootstrap=0, max_features=6, n_estimators=100;, score=(train=1.000, test=0.820) total time=  14.1s\n",
      "[CV 2/5] END bootstrap=0, max_features=6, n_estimators=100;, score=(train=1.000, test=0.829) total time=  14.1s\n",
      "[CV 3/5] END bootstrap=0, max_features=6, n_estimators=100;, score=(train=1.000, test=0.832) total time=  14.2s\n",
      "[CV 4/5] END bootstrap=0, max_features=6, n_estimators=100;, score=(train=1.000, test=0.817) total time=  14.0s\n",
      "[CV 5/5] END bootstrap=0, max_features=6, n_estimators=100;, score=(train=1.000, test=0.818) total time=  14.1s\n",
      "Final R2 score of the model is : 0.837\n"
     ]
    }
   ],
   "source": [
    "main()"
   ]
  },
  {
   "cell_type": "code",
   "execution_count": 21,
   "id": "da7d998b",
   "metadata": {},
   "outputs": [
    {
     "name": "stdout",
     "output_type": "stream",
     "text": [
      "end\n"
     ]
    }
   ],
   "source": [
    "print(\"end\")"
   ]
  },
  {
   "cell_type": "code",
   "execution_count": null,
   "id": "f38c9550",
   "metadata": {},
   "outputs": [],
   "source": []
  }
 ],
 "metadata": {
  "kernelspec": {
   "display_name": "Python 3 (ipykernel)",
   "language": "python",
   "name": "python3"
  },
  "language_info": {
   "codemirror_mode": {
    "name": "ipython",
    "version": 3
   },
   "file_extension": ".py",
   "mimetype": "text/x-python",
   "name": "python",
   "nbconvert_exporter": "python",
   "pygments_lexer": "ipython3",
   "version": "3.9.7"
  }
 },
 "nbformat": 4,
 "nbformat_minor": 5
}
